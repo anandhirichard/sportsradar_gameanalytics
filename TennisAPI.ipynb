{
 "cells": [
  {
   "cell_type": "code",
   "execution_count": 1,
   "id": "f44888ad",
   "metadata": {},
   "outputs": [
    {
     "name": "stdout",
     "output_type": "stream",
     "text": [
      "data inserted succesfully\n",
      "Competiton dataframe created successfully\n",
      "Category dataframe created successfully\n"
     ]
    }
   ],
   "source": [
    "####### Table1- Competition Details and Table2- Category Details ##########\n",
    "\n",
    "import requests #hyper text transfer protocol to fetch data from API sources\n",
    "import pandas as pd\n",
    "url_1 = \"https://api.sportradar.com/tennis/trial/v3/en/competitions.json?api_key=MALfD1YhqQP8NGtF9LTcTIT9un1p7EgENNgCEWyi\"\n",
    "\n",
    "# API request\n",
    "def fetch_data_1(url_1):\n",
    "    response = requests.get(url_1)\n",
    "    if response.status_code == 200: #200-OK, the client's request to the server has been successfully processed\n",
    "        return response.json()\n",
    "    else:\n",
    "        raise Exception(f\"Error-statuscode: {response.status_code}\")\n",
    "try:\n",
    "    data = fetch_data_1(url_1)#json-dic\n",
    "\n",
    "    competitions = data.get(\"competitions\", [])\n",
    "\n",
    "    # separate empty lists  \n",
    "    competition_list = []#competition details\n",
    "    category_list = []#category details\n",
    "\n",
    "    for competition in competitions:\n",
    "        comp_detail = {\n",
    "            \"competition_id\": competition.get(\"id\"),\n",
    "            \"competition_name\": competition.get(\"name\"),\n",
    "            \"parent_id\":competition.get(\"parent_id\"),\n",
    "            \"type\": competition.get(\"type\"),\n",
    "            \"gender\": competition.get(\"gender\"),\n",
    "            \"category_id\" : competition.get(\"category\",{}).get(\"id\"),\n",
    "        }\n",
    "        competition_list.append(comp_detail)\n",
    "        \n",
    "        \n",
    "        category = competition.get(\"category\", {})\n",
    "        category_detail = {\n",
    "            \"category_id\": category.get(\"id\"),\n",
    "            \"category_name\": category.get(\"name\"),\n",
    "        }\n",
    "        category_list.append(category_detail)\n",
    "        \n",
    "    print(\"data inserted succesfully\")\n",
    "\n",
    "    #Create DataFrame for Analysis\n",
    "    competition_df = pd.DataFrame(competition_list)\n",
    "    print(\"Competiton dataframe created successfully\")\n",
    "\n",
    "    category_df = pd.DataFrame(category_list)\n",
    "    print(\"Category dataframe created successfully\")\n",
    "\n",
    "    \n",
    "except Exception as e:\n",
    "    print(e)"
   ]
  },
  {
   "cell_type": "code",
   "execution_count": 2,
   "id": "9e2c5a36",
   "metadata": {},
   "outputs": [
    {
     "name": "stdout",
     "output_type": "stream",
     "text": [
      "(6007, 6)\n",
      "(6007, 2)\n",
      "        competition_id                   competition_name  \\\n",
      "0   sr:competition:620                         Hopman Cup   \n",
      "1   sr:competition:660                     World Team Cup   \n",
      "2   sr:competition:990         ATP Challenger Tour Finals   \n",
      "3  sr:competition:1207  Championship International Series   \n",
      "4  sr:competition:2100                          Davis Cup   \n",
      "\n",
      "             parent_id     type gender      category_id  \n",
      "0                 None    mixed  mixed  sr:category:181  \n",
      "1                 None    mixed    men    sr:category:3  \n",
      "2  sr:competition:6239  singles    men   sr:category:72  \n",
      "3                 None  singles  women    sr:category:6  \n",
      "4                 None    mixed    men   sr:category:76  \n",
      "       category_id category_name\n",
      "0  sr:category:181    Hopman Cup\n",
      "1    sr:category:3           ATP\n",
      "2   sr:category:72    Challenger\n",
      "3    sr:category:6           WTA\n",
      "4   sr:category:76     Davis Cup\n"
     ]
    }
   ],
   "source": [
    "print(competition_df.shape)\n",
    "print(category_df.shape)\n",
    "print(competition_df.head())\n",
    "print(category_df.head())"
   ]
  },
  {
   "cell_type": "code",
   "execution_count": 3,
   "id": "845d490a",
   "metadata": {},
   "outputs": [
    {
     "name": "stdout",
     "output_type": "stream",
     "text": [
      "data inserted succesfully\n",
      "Complexes dataframe created successfully\n",
      "Venues dataframe created successfully\n"
     ]
    }
   ],
   "source": [
    "####### Table3- Complexes Details and Table4- Venues Details ##########\n",
    "\n",
    "url_2 = \"https://api.sportradar.com/tennis/trial/v3/en/complexes.json?api_key=MALfD1YhqQP8NGtF9LTcTIT9un1p7EgENNgCEWyi\"\n",
    "# API request\n",
    "def fetch_data_2(url_2):\n",
    "    response = requests.get(url_2)\n",
    "    if response.status_code == 200:\n",
    "        return response.json()\n",
    "    else:\n",
    "        raise Exception(f\"Error-statuscode: {response.status_code}\")\n",
    "try:\n",
    "    data=fetch_data_2(url_2)#json-dic\n",
    "\n",
    "    #Creating an empty list to initiate appending\n",
    "    complex_list = []#complex_details\n",
    "    venue_list = []#venue_details   \n",
    "\n",
    "    complexes = data.get(\"complexes\", [])\n",
    "    for complex_item in complexes:\n",
    "        comp_details={\n",
    "            \"complex_id\":complex_item.get(\"id\"),\n",
    "            \"complex_name\":complex_item.get(\"name\")\n",
    "        }\n",
    "        complex_list.append(comp_details)\n",
    "\n",
    "        venues = complex_item.get(\"venues\", [])\n",
    "        for venue in venues:\n",
    "                venue_detail = {\n",
    "                    \"venue_id\": venue.get(\"id\"),\n",
    "                    \"venue_name\": venue.get(\"name\"),\n",
    "                    \"city_name\": venue.get(\"city_name\"),\n",
    "                    \"country_name\": venue.get(\"country_name\"),\n",
    "                    \"country_code\": venue.get(\"country_code\"),\n",
    "                    \"timezone\": venue.get(\"timezone\"),\n",
    "                    \"complex_id\": complex_item.get(\"id\")\n",
    "                }\n",
    "                venue_list.append(venue_detail)\n",
    "    print(\"data inserted succesfully\")\n",
    "    #Create DataFrame for Analysis\n",
    "    complexes_df = pd.DataFrame(complex_list)\n",
    "    print(\"Complexes dataframe created successfully\")\n",
    "\n",
    "    venues_df = pd.DataFrame(venue_list)\n",
    "    print(\"Venues dataframe created successfully\")\n",
    "except Exception as e:\n",
    "    print(e)"
   ]
  },
  {
   "cell_type": "code",
   "execution_count": 4,
   "id": "48400651",
   "metadata": {},
   "outputs": [
    {
     "name": "stdout",
     "output_type": "stream",
     "text": [
      "(655, 2)\n",
      "(3327, 7)\n",
      "        complex_id                           complex_name\n",
      "0   sr:complex:705                               Nacional\n",
      "1  sr:complex:1078                  Estadio de la Cartuja\n",
      "2  sr:complex:1495                            Sibur Arena\n",
      "3  sr:complex:2375             Complexo de Tenis do Jamor\n",
      "4  sr:complex:4032  Shree Shiv Chhatrapati Sports Complex\n",
      "         venue_id      venue_name         city_name country_name country_code  \\\n",
      "0  sr:venue:70045  Cancha Central          Santiago        Chile          CHL   \n",
      "1  sr:venue:74856    Centre Court           Seville        Spain          ESP   \n",
      "2  sr:venue:74858       Court One           Seville        Spain          ESP   \n",
      "3   sr:venue:1496         COURT 1  Saint Petersburg       Russia          RUS   \n",
      "4   sr:venue:1500    CENTER COURT  Saint Petersburg       Russia          RUS   \n",
      "\n",
      "           timezone       complex_id  \n",
      "0  America/Santiago   sr:complex:705  \n",
      "1     Europe/Madrid  sr:complex:1078  \n",
      "2     Europe/Madrid  sr:complex:1078  \n",
      "3     Europe/Moscow  sr:complex:1495  \n",
      "4     Europe/Moscow  sr:complex:1495  \n"
     ]
    }
   ],
   "source": [
    "print(complexes_df.shape)\n",
    "print(venues_df.shape)\n",
    "print(complexes_df.head())\n",
    "print(venues_df.head())"
   ]
  },
  {
   "cell_type": "code",
   "execution_count": 5,
   "id": "3fa6377a",
   "metadata": {},
   "outputs": [
    {
     "name": "stdout",
     "output_type": "stream",
     "text": [
      "data inserted succesfully\n",
      "Competitor Ranking dataframe created successfully\n",
      "Competitor dataframe created successfully\n"
     ]
    }
   ],
   "source": [
    "####### Table5 - Competitior Details and Table6- Competitor Ranking Details ##########\n",
    "\n",
    "url_3 = \"https://api.sportradar.com/tennis/trial/v3/en/double_competitors_rankings.json?api_key=MALfD1YhqQP8NGtF9LTcTIT9un1p7EgENNgCEWyi\"\n",
    "\n",
    "def fetch_data_3(url_3):\n",
    "    response=requests.get(url_3)\n",
    "    if response.status_code==200:\n",
    "        return response.json()\n",
    "    else:\n",
    "        raise Exception (f\"Error:{response.status_code}\")\n",
    "try:\n",
    "    data=fetch_data_3(url_3)\n",
    "\n",
    "    Competitors_list=[]\n",
    "    Competitor_Rankings_list=[]\n",
    "\n",
    "    for ranking in data.get(\"rankings\", []):\n",
    "        for competitor_ranking in ranking.get(\"competitor_rankings\", []):\n",
    "            Rank_data = {\n",
    "                \"rank_id\":ranking.get(\"type_id\"),\n",
    "                \"tournament_name\":ranking.get(\"name\"),\n",
    "                \"year\":ranking.get(\"year\"),\n",
    "                \"week\":ranking.get(\"week\"),\n",
    "                \"gender\":ranking.get(\"gender\"),\n",
    "                \"rank\": competitor_ranking.get(\"rank\"),\n",
    "                \"movement\": competitor_ranking.get(\"movement\"),\n",
    "                \"points\": competitor_ranking.get(\"points\"),\n",
    "                \"competitions_played\": competitor_ranking.get(\"competitions_played\"),\n",
    "                \"competitor_id\": competitor_ranking[\"competitor\"].get(\"id\"),\n",
    "            }\n",
    "            Competitor_Rankings_list.append(Rank_data)\n",
    "                \n",
    "            compi= competitor_ranking.get(\"competitor\",{})\n",
    "            compx_info={\n",
    "                \"competitor_id\":compi.get(\"id\"),\n",
    "                \"name\":compi.get(\"name\"),\n",
    "                \"country\":compi.get(\"country\"),\n",
    "                \"country_code\":compi.get(\"country_code\"),\n",
    "                \"abbreviation\":compi.get(\"abbreviation\")\n",
    "            }\n",
    "            Competitors_list.append(compx_info)\n",
    "    print(\"data inserted succesfully\")\n",
    "     #Create DataFrame for Analysis\n",
    "    competitor_ranking_df = pd.DataFrame(Competitor_Rankings_list)\n",
    "    print(\"Competitor Ranking dataframe created successfully\")\n",
    "\n",
    "    competitor_df = pd.DataFrame(Competitors_list)\n",
    "    print(\"Competitor dataframe created successfully\")\n",
    "except Exception as e:\n",
    "     print(e)"
   ]
  },
  {
   "cell_type": "code",
   "execution_count": 6,
   "id": "e634d3cb",
   "metadata": {},
   "outputs": [
    {
     "name": "stdout",
     "output_type": "stream",
     "text": [
      "(1000, 10)\n",
      "(1000, 5)\n",
      "   rank_id tournament_name  year  week gender  rank  movement  points  \\\n",
      "0        2             ATP  2025    16    men     1         0    9440   \n",
      "1        2             ATP  2025    16    men     1         0    9440   \n",
      "2        2             ATP  2025    16    men     3         0    7590   \n",
      "3        2             ATP  2025    16    men     4         0    7590   \n",
      "4        2             ATP  2025    16    men     5         0    6460   \n",
      "\n",
      "   competitions_played         competitor_id  \n",
      "0                   23   sr:competitor:49363  \n",
      "1                   23   sr:competitor:51836  \n",
      "2                   26   sr:competitor:14898  \n",
      "3                   27  sr:competitor:637970  \n",
      "4                   20   sr:competitor:87690  \n",
      "          competitor_id                       name        country  \\\n",
      "0   sr:competitor:49363                Pavic, Mate        Croatia   \n",
      "1   sr:competitor:51836  Arevalo-Gonzalez, Marcelo    El Salvador   \n",
      "2   sr:competitor:14898          Heliovaara, Harri        Finland   \n",
      "3  sr:competitor:637970              Patten, Henry  Great Britain   \n",
      "4   sr:competitor:87690           Thompson, Jordan      Australia   \n",
      "\n",
      "  country_code abbreviation  \n",
      "0          HRV          PAV  \n",
      "1          SLV          ARE  \n",
      "2          FIN          HEL  \n",
      "3          GBR          PAT  \n",
      "4          AUS          THO  \n"
     ]
    }
   ],
   "source": [
    "print(competitor_ranking_df.shape)\n",
    "print(competitor_df.shape)\n",
    "print(competitor_ranking_df.head())\n",
    "print(competitor_df.head())"
   ]
  },
  {
   "cell_type": "markdown",
   "id": "5e627835",
   "metadata": {},
   "source": [
    "############ Converting Dataframes to CSV files #############"
   ]
  },
  {
   "cell_type": "code",
   "execution_count": 20,
   "id": "5c3b5006",
   "metadata": {},
   "outputs": [],
   "source": [
    "import pandas as pd\n",
    "competition_df.to_csv(\"D:/Anandhi/guvi/SportRadarProject/competition_df.csv\",index=False)\n",
    "category_df.to_csv(\"D:/Anandhi/guvi/SportRadarProject/category_df.csv\",index=False)\n",
    "complexes_df.to_csv(\"D:/Anandhi/guvi/SportRadarProject/complexes_df.csv\",index=False)\n",
    "venues_df.to_csv(\"D:/Anandhi/guvi/SportRadarProject/venues_df.csv\",index=False)\n",
    "competitor_ranking_df.to_csv(\"D:/Anandhi/guvi/SportRadarProject/competitor_ranking_df.csv\",index=False)\n",
    "competitor_df.to_csv(\"D:/Anandhi/guvi/SportRadarProject/competitor_df.csv\",index=False)\n"
   ]
  },
  {
   "cell_type": "code",
   "execution_count": null,
   "id": "5f422c7b",
   "metadata": {},
   "outputs": [],
   "source": [
    "######## Upload the CSV files to MYSQL Database ########"
   ]
  }
 ],
 "metadata": {
  "kernelspec": {
   "display_name": "Python 3",
   "language": "python",
   "name": "python3"
  },
  "language_info": {
   "codemirror_mode": {
    "name": "ipython",
    "version": 3
   },
   "file_extension": ".py",
   "mimetype": "text/x-python",
   "name": "python",
   "nbconvert_exporter": "python",
   "pygments_lexer": "ipython3",
   "version": "3.13.3"
  }
 },
 "nbformat": 4,
 "nbformat_minor": 5
}
